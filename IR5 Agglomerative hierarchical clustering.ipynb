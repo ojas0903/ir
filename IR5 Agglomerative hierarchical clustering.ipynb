{
 "cells": [
  {
   "cell_type": "code",
   "execution_count": null,
   "id": "3103985a",
   "metadata": {},
   "outputs": [],
   "source": [
    "import numpy as np\n",
    "import matplotlib.pyplot as plt\n",
    "from sklearn import datasets\n",
    "from sklearn.cluster import AgglomerativeClustering\n",
    "from scipy.cluster.hierarchy import dendrogram, linkage\n",
    "\n",
    "# Load the Iris dataset\n",
    "iris = datasets.load_iris()\n",
    "X = iris.data\n",
    "\n",
    "# Perform hierarchical clustering\n",
    "linkage_matrix = linkage(X, method='ward')  # You can choose different linkage methods\n",
    "\n",
    "plt.figure(figsize=(12, 6))\n",
    "dendrogram(linkage_matrix)\n",
    "plt.title('Hierarchical Clustering Dendrogram')\n",
    "plt.show()\n",
    "\n",
    "# Fit AgglomerativeClustering model\n",
    "n_clusters = 3  # Number of clusters\n",
    "agg_clustering = AgglomerativeClustering(n_clusters = n_clusters, linkage='ward')\n",
    "agg_clustering.fit(X)\n",
    "\n",
    "# Assign cluster labels to each data point\n",
    "cluster_labels = agg_clustering.labels_\n",
    "\n",
    "# Print cluster assignments for each data point\n",
    "for i in range(len(X)):\n",
    "    print(f\"Data point {i} is assigned to cluster {cluster_labels[i]}\")\n"
   ]
  },
  {
   "cell_type": "code",
   "execution_count": null,
   "id": "bd23d282",
   "metadata": {},
   "outputs": [],
   "source": []
  }
 ],
 "metadata": {
  "kernelspec": {
   "display_name": "Python 3 (ipykernel)",
   "language": "python",
   "name": "python3"
  },
  "language_info": {
   "codemirror_mode": {
    "name": "ipython",
    "version": 3
   },
   "file_extension": ".py",
   "mimetype": "text/x-python",
   "name": "python",
   "nbconvert_exporter": "python",
   "pygments_lexer": "ipython3",
   "version": "3.10.9"
  }
 },
 "nbformat": 4,
 "nbformat_minor": 5
}
