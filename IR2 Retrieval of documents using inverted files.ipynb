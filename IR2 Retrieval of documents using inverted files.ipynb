{
 "cells": [
  {
   "cell_type": "code",
   "execution_count": 8,
   "id": "eb980312",
   "metadata": {},
   "outputs": [],
   "source": [
    "import re\n",
    "from collections import defaultdict"
   ]
  },
  {
   "cell_type": "code",
   "execution_count": 9,
   "id": "36d4e3f5",
   "metadata": {},
   "outputs": [],
   "source": [
    "documents = {\n",
    " 1: \"This is the first document. It contains some text.\",\n",
    " 2: \"The second document is longer. It also contains some text.\",\n",
    " 3: \"This is the third document. It is different from the first two.\",\n",
    "}"
   ]
  },
  {
   "cell_type": "code",
   "execution_count": 10,
   "id": "d4c740d4",
   "metadata": {},
   "outputs": [],
   "source": [
    "def preprocess_document(doc):\n",
    " # Convert to lowercase and tokenize\n",
    " tokens = re.findall(r'\\w+', doc.lower())\n",
    " # Remove stop words (you can define your own list of stop words)\n",
    " stop_words = set([\"is\", \"the\", \"it\", \"and\", \"some\"])\n",
    " tokens = [token for token in tokens if token not in stop_words]\n",
    " return tokens"
   ]
  },
  {
   "cell_type": "code",
   "execution_count": 11,
   "id": "b5f95c25",
   "metadata": {},
   "outputs": [],
   "source": [
    "inverted_index = defaultdict(list)\n",
    "for doc_id, doc_text in documents.items():\n",
    "    tokens = preprocess_document(doc_text)\n",
    "    for token in tokens:\n",
    "        inverted_index[token].append(doc_id)"
   ]
  },
  {
   "cell_type": "code",
   "execution_count": 12,
   "id": "c837d07c",
   "metadata": {},
   "outputs": [],
   "source": [
    "def retrieve_documents(query):\n",
    "    query_tokens = preprocess_document(query)\n",
    "    result = set()\n",
    "    for token in query_tokens:\n",
    "        if token in inverted_index:\n",
    "            result.update(inverted_index[token])\n",
    "    return list(result)"
   ]
  },
  {
   "cell_type": "code",
   "execution_count": 13,
   "id": "3946eeb7",
   "metadata": {},
   "outputs": [],
   "source": [
    "query = \"document contains text\"\n",
    "matching_documents = retrieve_documents(query)"
   ]
  },
  {
   "cell_type": "code",
   "execution_count": 14,
   "id": "e5674d76",
   "metadata": {},
   "outputs": [
    {
     "name": "stdout",
     "output_type": "stream",
     "text": [
      "Matching documents for query 'document contains text':\n",
      "Document 1: This is the first document. It contains some text.\n",
      "Document 2: The second document is longer. It also contains some text.\n",
      "Document 3: This is the third document. It is different from the first two.\n"
     ]
    }
   ],
   "source": [
    "if matching_documents:\n",
    "    print(f\"Matching documents for query '{query}':\")\n",
    "    for doc_id in matching_documents:\n",
    "        print(f\"Document {doc_id}: {documents[doc_id]}\")\n",
    "else:\n",
    "    print(\"No matching documents found.\")\n"
   ]
  },
  {
   "cell_type": "code",
   "execution_count": null,
   "id": "2b28002c",
   "metadata": {},
   "outputs": [],
   "source": []
  }
 ],
 "metadata": {
  "kernelspec": {
   "display_name": "Python 3 (ipykernel)",
   "language": "python",
   "name": "python3"
  },
  "language_info": {
   "codemirror_mode": {
    "name": "ipython",
    "version": 3
   },
   "file_extension": ".py",
   "mimetype": "text/x-python",
   "name": "python",
   "nbconvert_exporter": "python",
   "pygments_lexer": "ipython3",
   "version": "3.10.9"
  }
 },
 "nbformat": 4,
 "nbformat_minor": 5
}
